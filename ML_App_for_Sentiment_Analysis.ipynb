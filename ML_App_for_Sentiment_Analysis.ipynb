{
  "nbformat": 4,
  "nbformat_minor": 0,
  "metadata": {
    "colab": {
      "provenance": [],
      "authorship_tag": "ABX9TyMwdsBCHUOt0w0xZ04RCCRo",
      "include_colab_link": true
    },
    "kernelspec": {
      "name": "python3",
      "display_name": "Python 3"
    },
    "language_info": {
      "name": "python"
    }
  },
  "cells": [
    {
      "cell_type": "markdown",
      "metadata": {
        "id": "view-in-github",
        "colab_type": "text"
      },
      "source": [
        "<a href=\"https://colab.research.google.com/github/kashishbudhwani/ML-app-using-gradio/blob/main/ML_App_for_Sentiment_Analysis.ipynb\" target=\"_parent\"><img src=\"https://colab.research.google.com/assets/colab-badge.svg\" alt=\"Open In Colab\"/></a>"
      ]
    },
    {
      "cell_type": "code",
      "execution_count": null,
      "metadata": {
        "id": "YBAHmr9pxYvH"
      },
      "outputs": [],
      "source": [
        "import gradio as gr\n",
        "from transformers import pipeline\n",
        "\n",
        "# load the pre-trained sentiment analysis model\n",
        "sentiment_analyzer = pipeline(\"sentiment-analysis\")\n",
        "\n",
        "# define the function that will wrap our model\n",
        "def analyze_sentiment(text):\n",
        "    result = sentiment_analyzer(text)[0]\n",
        "    # gradio works best with dictionary outputs\n",
        "    return {result['label']: result['score']}\n",
        "\n",
        "# create the Gradio Interface\n",
        "iface = gr.Interface(\n",
        "    fn=analyze_sentiment,\n",
        "    inputs=gr.Textbox(lines=2, placeholder=\"Enter a sentence here...\"),\n",
        "    outputs=\"label\",\n",
        "    title=\"Sentiment Analysis Bot\",\n",
        "    description=\"Type in a sentence and see if the model thinks it's POSITIVE or NEGATIVE. Built with Gradio and Hugging Face Transformers.\"\n",
        ")\n",
        "\n",
        "# launch the app!\n",
        "iface.launch()"
      ]
    },
    {
      "cell_type": "code",
      "metadata": {
        "id": "28fbbae7"
      },
      "source": [
        "# Get the content of the code cell\n",
        "code_content = \"\"\"\n",
        "import gradio as gr\n",
        "from transformers import pipeline\n",
        "\n",
        "# load the pre-trained sentiment analysis model\n",
        "sentiment_analyzer = pipeline(\"sentiment-analysis\")\n",
        "\n",
        "# define the function that will wrap our model\n",
        "def analyze_sentiment(text):\n",
        "    result = sentiment_analyzer(text)[0]\n",
        "    # gradio works best with dictionary outputs\n",
        "    return {result['label']: result['score']}\n",
        "\n",
        "# create the Gradio Interface\n",
        "iface = gr.Interface(\n",
        "    fn=analyze_sentiment,\n",
        "    inputs=gr.Textbox(lines=2, placeholder=\"Enter a sentence here...\"),\n",
        "    outputs=\"label\",\n",
        "    title=\"Sentiment Analysis Bot\",\n",
        "    description=\"Type in a sentence and see if the model thinks it's POSITIVE or NEGATIVE. Built with Gradio and Hugging Face Transformers.\"\n",
        ")\n",
        "\n",
        "# launch the app!\n",
        "iface.launch()\n",
        "\"\"\"\n",
        "\n",
        "# Write the content to app.py\n",
        "with open(\"app.py\", \"w\") as f:\n",
        "    f.write(code_content)\n",
        "\n",
        "print(\"Code saved to app.py\")"
      ],
      "execution_count": null,
      "outputs": []
    }
  ]
}